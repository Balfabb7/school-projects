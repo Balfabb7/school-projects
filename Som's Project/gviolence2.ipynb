{
 "cells": [
  {
   "cell_type": "code",
   "execution_count": 13,
   "metadata": {},
   "outputs": [
    {
     "name": "stdout",
     "output_type": "stream",
     "text": [
      "(15000, 4)\n",
      "(15000,)\n",
      "(500, 4)\n",
      "(500,)\n",
      "[[   4.       40.3467  -79.8559    0.    ]\n",
      " [   3.       33.909  -118.333     0.    ]\n",
      " [   3.       41.4455  -82.1377    2.    ]]\n",
      "[0. 1. 1.]\n",
      "[[   4.       40.3467  -79.8559    0.    ]\n",
      " [   3.       33.909  -118.333     0.    ]\n",
      " [   3.       41.4455  -82.1377    2.    ]]\n",
      "[0. 1. 1.]\n",
      "_________________________________________________________________\n",
      "Layer (type)                 Output Shape              Param #   \n",
      "=================================================================\n",
      "dense_22 (Dense)             (None, 12)                60        \n",
      "_________________________________________________________________\n",
      "batch_normalization_8 (Batch (None, 12)                48        \n",
      "_________________________________________________________________\n",
      "dense_23 (Dense)             (None, 8)                 104       \n",
      "_________________________________________________________________\n",
      "dense_24 (Dense)             (None, 1)                 9         \n",
      "=================================================================\n",
      "Total params: 221\n",
      "Trainable params: 197\n",
      "Non-trainable params: 24\n",
      "_________________________________________________________________\n",
      "None\n"
     ]
    },
    {
     "name": "stderr",
     "output_type": "stream",
     "text": [
      "/Users/som/anaconda3/lib/python3.6/site-packages/ipykernel_launcher.py:28: UserWarning: Update your `Dense` call to the Keras 2 API: `Dense(12, input_dim=4, activation=\"relu\", kernel_initializer=\"uniform\")`\n"
     ]
    },
    {
     "name": "stdout",
     "output_type": "stream",
     "text": [
      "Train on 15000 samples, validate on 500 samples\n",
      "Epoch 1/30\n",
      " - 3s - loss: 0.3168 - acc: 0.7597 - val_loss: 1.7671 - val_acc: 0.5800\n",
      "Epoch 2/30\n",
      " - 2s - loss: 0.3098 - acc: 0.7615 - val_loss: 1.8170 - val_acc: 0.6020\n",
      "Epoch 3/30\n",
      " - 2s - loss: 0.3146 - acc: 0.7647 - val_loss: 1.8358 - val_acc: 0.6020\n",
      "Epoch 4/30\n",
      " - 2s - loss: 0.3154 - acc: 0.7646 - val_loss: 1.8383 - val_acc: 0.6020\n",
      "Epoch 5/30\n",
      " - 1s - loss: 0.3155 - acc: 0.7644 - val_loss: 1.8281 - val_acc: 0.6020\n",
      "Epoch 6/30\n",
      " - 2s - loss: 0.3154 - acc: 0.7644 - val_loss: 1.8242 - val_acc: 0.6020\n",
      "Epoch 7/30\n",
      " - 2s - loss: 0.3154 - acc: 0.7645 - val_loss: 1.8279 - val_acc: 0.6020\n",
      "Epoch 8/30\n",
      " - 2s - loss: 0.3154 - acc: 0.7645 - val_loss: 1.8290 - val_acc: 0.6020\n",
      "Epoch 9/30\n",
      " - 1s - loss: 0.3154 - acc: 0.7645 - val_loss: 1.8105 - val_acc: 0.6020\n",
      "Epoch 10/30\n",
      " - 2s - loss: 0.3154 - acc: 0.7645 - val_loss: 1.8360 - val_acc: 0.6020\n",
      "Epoch 11/30\n",
      " - 2s - loss: 0.3153 - acc: 0.7648 - val_loss: 1.8272 - val_acc: 0.6020\n",
      "Epoch 12/30\n",
      " - 1s - loss: 0.3154 - acc: 0.7648 - val_loss: 1.8430 - val_acc: 0.6020\n",
      "Epoch 13/30\n",
      " - 2s - loss: 0.3154 - acc: 0.7648 - val_loss: 1.8253 - val_acc: 0.6020\n",
      "Epoch 14/30\n",
      " - 2s - loss: 0.3155 - acc: 0.7647 - val_loss: 1.8273 - val_acc: 0.6020\n",
      "Epoch 15/30\n",
      " - 1s - loss: 0.3153 - acc: 0.7648 - val_loss: 1.8406 - val_acc: 0.6020\n",
      "Epoch 16/30\n",
      " - 2s - loss: 0.3155 - acc: 0.7648 - val_loss: 1.8298 - val_acc: 0.6020\n",
      "Epoch 17/30\n",
      " - 2s - loss: 0.3152 - acc: 0.7648 - val_loss: 1.8158 - val_acc: 0.6020\n",
      "Epoch 18/30\n",
      " - 1s - loss: 0.3153 - acc: 0.7648 - val_loss: 1.8231 - val_acc: 0.6020\n",
      "Epoch 19/30\n",
      " - 2s - loss: 0.3153 - acc: 0.7648 - val_loss: 1.8296 - val_acc: 0.6020\n",
      "Epoch 20/30\n",
      " - 2s - loss: 0.3153 - acc: 0.7648 - val_loss: 1.8292 - val_acc: 0.6020\n",
      "Epoch 21/30\n",
      " - 1s - loss: 0.3153 - acc: 0.7648 - val_loss: 1.8290 - val_acc: 0.6020\n",
      "Epoch 22/30\n",
      " - 2s - loss: 0.3153 - acc: 0.7648 - val_loss: 1.8414 - val_acc: 0.6020\n",
      "Epoch 23/30\n",
      " - 2s - loss: 0.3152 - acc: 0.7648 - val_loss: 1.8193 - val_acc: 0.6020\n",
      "Epoch 24/30\n",
      " - 2s - loss: 0.3154 - acc: 0.7647 - val_loss: 1.8543 - val_acc: 0.6020\n",
      "Epoch 25/30\n",
      " - 1s - loss: 0.3153 - acc: 0.7648 - val_loss: 1.8256 - val_acc: 0.6020\n",
      "Epoch 26/30\n",
      " - 1s - loss: 0.3154 - acc: 0.7648 - val_loss: 1.8259 - val_acc: 0.6020\n",
      "Epoch 27/30\n",
      " - 1s - loss: 0.3153 - acc: 0.7648 - val_loss: 1.8210 - val_acc: 0.6020\n",
      "Epoch 28/30\n",
      " - 1s - loss: 0.3153 - acc: 0.7648 - val_loss: 1.8301 - val_acc: 0.6020\n",
      "Epoch 29/30\n",
      " - 2s - loss: 0.3153 - acc: 0.7648 - val_loss: 1.8343 - val_acc: 0.6020\n",
      "Epoch 30/30\n",
      " - 2s - loss: 0.3153 - acc: 0.7648 - val_loss: 1.8204 - val_acc: 0.6020\n",
      "dict_keys(['val_loss', 'val_acc', 'loss', 'acc'])\n"
     ]
    },
    {
     "data": {
      "image/png": "[encoded data removed]",
      "text/plain": [
       "<Figure size 432x288 with 1 Axes>"
      ]
     },
     "metadata": {},
     "output_type": "display_data"
    },
    {
     "data": {
      "image/png": "[encoded data removed]",
      "text/plain": [
       "<Figure size 432x288 with 1 Axes>"
      ]
     },
     "metadata": {},
     "output_type": "display_data"
    },
    {
     "name": "stdout",
     "output_type": "stream",
     "text": [
      "15000/15000 [==============================] - 0s 25us/step\n",
      "\n",
      "acc: 76.48%\n",
      "500/500 [==============================] - 0s 32us/step\n",
      "\n",
      "acc: 60.20%\n"
     ]
    }
   ],
   "source": [
    "# Create first network with Keras\n",
    "import matplotlib.pyplot as plt\n",
    "from keras.models import Sequential\n",
    "import tensorflow as tf\n",
    "from keras.layers import Dense\n",
    "import keras\n",
    "import numpy\n",
    "# fix random seed for reproducibility\n",
    "seed = 7\n",
    "numpy.random.seed(seed)\n",
    "# load gun violence dataset\n",
    "dataset = numpy.loadtxt('gviolence.csv', delimiter=',')\n",
    "# split into input (X) and output (Y) variables\n",
    "X = dataset[:15000,5:9]\n",
    "Y = dataset[:15000,4]\n",
    "XTEST = dataset[:500,5:9]\n",
    "YTEST = dataset[:500,4]\n",
    "print(X.shape)\n",
    "print(Y.shape)\n",
    "print(XTEST.shape)\n",
    "print(YTEST.shape)\n",
    "print(X[0:3,])\n",
    "print(Y[0:3])\n",
    "print(XTEST[0:3,])\n",
    "print(YTEST[0:3])\n",
    "# create model\n",
    "model = Sequential()\n",
    "model.add(Dense(12, input_dim=4, init='uniform', activation='relu'))\n",
    "model.add(keras.layers.BatchNormalization())\n",
    "model.add(Dense(8, activation = 'relu'))\n",
    "model.add(Dense(1, activation='sigmoid'))\n",
    "# Compile model\n",
    "model.compile(loss='mean_squared_error', optimizer='adam', metrics=['accuracy'])\n",
    "print(model.summary())\n",
    "# Fit the model\n",
    "history = model.fit(X, Y, epochs=30, batch_size=20, validation_data = (XTEST, YTEST), verbose=2)\n",
    "# list all data in history\n",
    "print(history.history.keys())\n",
    "# summarize history for accuracy\n",
    "plt.plot(history.history['acc'])\n",
    "plt.plot(history.history['val_acc'])\n",
    "plt.title('model accuracy')\n",
    "plt.ylabel('accuracy')\n",
    "plt.xlabel('epoch')\n",
    "plt.legend(['train', 'validation'], loc='upper left')\n",
    "plt.show()\n",
    "# summarize history for loss\n",
    "plt.plot(history.history['loss'])\n",
    "plt.plot(history.history['val_loss'])\n",
    "plt.title('model loss')\n",
    "plt.ylabel('loss')\n",
    "plt.xlabel('epoch')\n",
    "plt.legend(['train', 'test'], loc='upper left')\n",
    "plt.show()\n",
    "# evaluate the model on training dataset\n",
    "scores = model.evaluate(X, Y)\n",
    "print(\"\\n%s: %.2f%%\" % (model.metrics_names[1], scores[1]*100))\n",
    "# evaluate the model on validation dataset\n",
    "scores = model.evaluate(XTEST, YTEST)\n",
    "print(\"\\n%s: %.2f%%\" % (model.metrics_names[1], scores[1]*100))"
   ]
  },
  {
   "cell_type": "code",
   "execution_count": 6,
   "metadata": {},
   "outputs": [
    {
     "name": "stdout",
     "output_type": "stream",
     "text": [
      "[[   4.       40.3467  -79.8559    0.    ]\n",
      " [   3.       33.909  -118.333     0.    ]\n",
      " [   3.       41.4455  -82.1377    2.    ]\n",
      " ...\n",
      " [   0.       35.5925  -87.093     0.    ]\n",
      " [   0.       26.6167  -81.7412    0.    ]\n",
      " [   2.       30.3594  -81.6831    0.    ]]\n"
     ]
    }
   ],
   "source": [
    "# calculate predictions\n",
    "predictions = model.predict(XTEST)\n",
    "# round predictions\n",
    "#rounded = [round(x[0]) for x in predictions]\n",
    "#print(rounded)\n",
    "# calculate predictions\n",
    "predictions = model.predict(X)\n",
    "# round predictions\n",
    "#rounded = [round(x[0]) for x in predictions]\n",
    "print(X)"
   ]
  },
  {
   "cell_type": "code",
   "execution_count": null,
   "metadata": {},
   "outputs": [],
   "source": []
  }
 ],
 "metadata": {
  "kernelspec": {
   "display_name": "Python 3",
   "language": "python",
   "name": "python3"
  },
  "language_info": {
   "codemirror_mode": {
    "name": "ipython",
    "version": 3
   },
   "file_extension": ".py",
   "mimetype": "text/x-python",
   "name": "python",
   "nbconvert_exporter": "python",
   "pygments_lexer": "ipython3",
   "version": "3.6.5"
  }
 },
 "nbformat": 4,
 "nbformat_minor": 2
}
