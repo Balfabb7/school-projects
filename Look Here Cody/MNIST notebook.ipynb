{
 "cells": [
  {
   "cell_type": "markdown",
   "metadata": {},
   "source": []
  },
  {
   "cell_type": "code",
   "execution_count": 3,
   "metadata": {},
   "outputs": [
    {
     "data": {
      "text/plain": [
       "array([7, 2, 1, ..., 4, 5, 6], dtype=uint8)"
      ]
     },
     "execution_count": 3,
     "metadata": {},
     "output_type": "execute_result"
    }
   ],
   "source": [
    "\n",
    "\n",
    "from keras.datasets import mnist\n",
    "\n",
    "#we need this cause it will give us the data to use\n",
    "(train_images, train_labels), (test_images, test_labels) = mnist.load_data()\n",
    "\n",
    "\n",
    "train_images.shape\n",
    "len(train_labels)\n",
    "train_labels\n",
    "\n",
    "test_images.shape\n",
    "len(test_labels)\n",
    "test_labels\n"
   ]
  },
  {
   "cell_type": "code",
   "execution_count": 4,
   "metadata": {},
   "outputs": [
    {
     "name": "stdout",
     "output_type": "stream",
     "text": [
      "Epoch 1/5\n",
      "60000/60000 [==============================] - 8s 128us/step - loss: 0.2525 - acc: 0.9278\n",
      "Epoch 2/5\n",
      "60000/60000 [==============================] - 7s 113us/step - loss: 0.1039 - acc: 0.9693\n",
      "Epoch 3/5\n",
      "60000/60000 [==============================] - 7s 120us/step - loss: 0.0681 - acc: 0.9794\n",
      "Epoch 4/5\n",
      "60000/60000 [==============================] - 7s 115us/step - loss: 0.0491 - acc: 0.9854 1s -\n",
      "Epoch 5/5\n",
      "60000/60000 [==============================] - 7s 121us/step - loss: 0.0368 - acc: 0.9889 1\n",
      "10000/10000 [==============================] - 1s 106us/step\n",
      "test_acc: 0.9802\n"
     ]
    }
   ],
   "source": [
    "from keras import models\n",
    "from keras import layers\n",
    "from keras.utils import to_categorical\n",
    "\n",
    "#this is the network model\n",
    "network = models.Sequential()\n",
    "network.add(layers.Dense(512, activation='relu', input_shape= (28 * 28,)))\n",
    "network.add(layers.Dense(10, activation='softmax'))\n",
    "\n",
    "#this is the compilation step. The compile step consist of:\n",
    "#Loss function - how the network will measure its performance on training data.\n",
    "#Optimizer - mechanism which will update the network based on the data and loss function\n",
    "#Metrics - to look at during the training and testing. For this we will look at accuracy\n",
    "network.compile(optimizer = 'rmsprop', loss = 'categorical_crossentropy', metrics = ['accuracy'])\n",
    "\n",
    "#reshaping the data into the shape the network expects and scaling the values between [0,1]#\n",
    "#basically we are using an array of shape (60000, 28, 28) of datatype uint8 and shaping into\n",
    "#float32 array of shape (60000, 28*28) of scaled values between [0,1].\n",
    "train_images = train_images.reshape((60000, 28 * 28))\n",
    "train_images = train_images.astype('float32') / 255\n",
    "\n",
    "#also reshaping the data for the test datasets.\n",
    "test_images = test_images.reshape((10000, 28 * 28))\n",
    "test_images = test_images.astype('float32') / 255\n",
    "\n",
    "#this is going to categorically encode the labels for both train and test labels\n",
    "train_labels = to_categorical(train_labels)\n",
    "test_labels = to_categorical(test_labels)\n",
    "\n",
    "#we are calling the fit method to fit the model to training data\n",
    "#in other words this is the training portion\n",
    "network.fit(train_images, train_labels, epochs = 5, batch_size=128)\n",
    "\n",
    "#getting outputs at the end\n",
    "test_loss, test_acc = network.evaluate(test_images, test_labels)\n",
    "print('test_acc:', test_acc)"
   ]
  },
  {
   "cell_type": "code",
   "execution_count": null,
   "metadata": {},
   "outputs": [],
   "source": []
  }
 ],
 "metadata": {
  "kernelspec": {
   "display_name": "Python 3",
   "language": "python",
   "name": "python3"
  },
  "language_info": {
   "codemirror_mode": {
    "name": "ipython",
    "version": 3
   },
   "file_extension": ".py",
   "mimetype": "text/x-python",
   "name": "python",
   "nbconvert_exporter": "python",
   "pygments_lexer": "ipython3",
   "version": "3.6.5"
  }
 },
 "nbformat": 4,
 "nbformat_minor": 2
}
